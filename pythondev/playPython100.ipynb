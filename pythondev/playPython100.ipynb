{
 "cells": [
  {
   "cell_type": "markdown",
   "id": "742ddc2a-e3cf-4ea5-acb1-cb958efa5f44",
   "metadata": {},
   "source": [
    "### James Powell\n",
    "####  very interesting python instructor\n",
    "####  https://www.youtube.com/watch?v=DlgbPLvBs30&list=PLzg3FkRs7fcTjdBdrP6dOTcV3AJwnzL0Y"
   ]
  },
  {
   "cell_type": "code",
   "execution_count": 3,
   "id": "b26bb51e-b8c7-438e-8e30-bb3b9c1d32e9",
   "metadata": {},
   "outputs": [
    {
     "data": {
      "text/plain": [
       "1.0"
      ]
     },
     "execution_count": 3,
     "metadata": {},
     "output_type": "execute_result"
    }
   ],
   "source": [
    "from math import log, e\n",
    "log(e)"
   ]
  },
  {
   "cell_type": "code",
   "execution_count": 4,
   "id": "4fcc57d9-4e78-4d8b-bbd6-4b4fb572b93c",
   "metadata": {},
   "outputs": [
    {
     "data": {
      "text/plain": [
       "1.0"
      ]
     },
     "execution_count": 4,
     "metadata": {},
     "output_type": "execute_result"
    }
   ],
   "source": [
    "import math\n",
    "math.log(math.e)"
   ]
  },
  {
   "cell_type": "code",
   "execution_count": 6,
   "id": "f85c0dbe-4b2f-4484-adbc-8e8bd61cbb89",
   "metadata": {},
   "outputs": [
    {
     "name": "stdout",
     "output_type": "stream",
     "text": [
      "1.0\n"
     ]
    }
   ],
   "source": [
    "print(_)"
   ]
  },
  {
   "cell_type": "code",
   "execution_count": 8,
   "id": "a6cb471b-9f87-4568-84bc-1b3e8dc746af",
   "metadata": {},
   "outputs": [
    {
     "name": "stdout",
     "output_type": "stream",
     "text": [
      "0\n",
      "1\n",
      "2\n",
      "3\n",
      "4\n",
      "5\n",
      "6\n",
      "7\n",
      "8\n",
      "9\n"
     ]
    }
   ],
   "source": [
    "for _ in range(10):\n",
    "    print(_)"
   ]
  },
  {
   "cell_type": "code",
   "execution_count": null,
   "id": "a98ee6e8-93ff-484e-b942-76b25725db75",
   "metadata": {},
   "outputs": [],
   "source": []
  }
 ],
 "metadata": {
  "kernelspec": {
   "display_name": "Python 3 (ipykernel)",
   "language": "python",
   "name": "python3"
  },
  "language_info": {
   "codemirror_mode": {
    "name": "ipython",
    "version": 3
   },
   "file_extension": ".py",
   "mimetype": "text/x-python",
   "name": "python",
   "nbconvert_exporter": "python",
   "pygments_lexer": "ipython3",
   "version": "3.11.6"
  }
 },
 "nbformat": 4,
 "nbformat_minor": 5
}
