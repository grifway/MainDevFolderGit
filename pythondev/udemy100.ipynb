{
 "cells": [
  {
   "cell_type": "code",
   "execution_count": 1,
   "id": "52020e93-c614-40a1-a51a-e3a853df00f8",
   "metadata": {},
   "outputs": [],
   "source": [
    "# https://www.udemy.com/course/numpy-python/learn/lecture/19425054#overview"
   ]
  },
  {
   "cell_type": "code",
   "execution_count": 2,
   "id": "478cd10f-9903-4f72-8d8c-f9dd3b919a22",
   "metadata": {},
   "outputs": [],
   "source": [
    "import numpy as np"
   ]
  },
  {
   "cell_type": "code",
   "execution_count": 3,
   "id": "e7ff2304-aa7f-47a2-bec7-b2b646b1d341",
   "metadata": {},
   "outputs": [],
   "source": [
    "L = [1,2,3]\n",
    "A = np.array(([1,2,3],[4,5,7]))\n",
    "A = np.array([8,9,10])"
   ]
  },
  {
   "cell_type": "code",
   "execution_count": 4,
   "id": "04e34ce3-6110-4914-8819-0024107b36ed",
   "metadata": {},
   "outputs": [
    {
     "name": "stdout",
     "output_type": "stream",
     "text": [
      "[1, 2, 3]\n",
      "[ 8  9 10]\n"
     ]
    }
   ],
   "source": [
    "print(L)\n",
    "print(A)"
   ]
  },
  {
   "cell_type": "code",
   "execution_count": 5,
   "id": "1d746464-0c16-4631-bc01-4a551ed39a21",
   "metadata": {},
   "outputs": [
    {
     "name": "stdout",
     "output_type": "stream",
     "text": [
      "class:  ndarray\n",
      "shape:  (3,)\n",
      "strides:  (4,)\n",
      "itemsize:  4\n",
      "aligned:  True\n",
      "contiguous:  True\n",
      "fortran:  True\n",
      "data pointer: 0x2170e095c60\n",
      "byteorder:  little\n",
      "byteswap:  False\n",
      "type: int32\n"
     ]
    }
   ],
   "source": [
    "np.info(A)"
   ]
  },
  {
   "cell_type": "code",
   "execution_count": null,
   "id": "cc9c39de-3b6a-4798-b74b-21b51260944e",
   "metadata": {},
   "outputs": [],
   "source": []
  }
 ],
 "metadata": {
  "kernelspec": {
   "display_name": "Python 3 (ipykernel)",
   "language": "python",
   "name": "python3"
  },
  "language_info": {
   "codemirror_mode": {
    "name": "ipython",
    "version": 3
   },
   "file_extension": ".py",
   "mimetype": "text/x-python",
   "name": "python",
   "nbconvert_exporter": "python",
   "pygments_lexer": "ipython3",
   "version": "3.11.6"
  }
 },
 "nbformat": 4,
 "nbformat_minor": 5
}
